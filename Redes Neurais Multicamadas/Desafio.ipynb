{
  "cells": [
    {
      "cell_type": "markdown",
      "id": "72eb5193-8898-417f-af09-0ebfde565d33",
      "metadata": {
        "id": "72eb5193-8898-417f-af09-0ebfde565d33"
      },
      "source": [
        "# **Desafios: Classificação com Redes Neurais Multicamadas**\n"
      ]
    },
    {
      "cell_type": "markdown",
      "id": "84e7b5d2-4bc5-4870-9abc-ae38fc0afebc",
      "metadata": {
        "id": "84e7b5d2-4bc5-4870-9abc-ae38fc0afebc"
      },
      "source": [
        "## **Exercício 1:** Classificação do **Iris Dataset**\n",
        "\n",
        "**Enunciado**  \n",
        "Utilizando o Scikit‑Learn, implemente uma Rede Neural Multicamadas (MLP) para classificar as três espécies de íris do **Iris Dataset** (UCI).\n",
        "\n",
        "---\n",
        "\n",
        "**Pipeline:**\n",
        "1. Carregue o conjunto de dados (`sklearn.datasets.load_iris`).  \n",
        "2. Divida em treino (70 %) e teste (30 %).  \n",
        "3. Use `MLPClassifier` com:\n",
        "   - Camadas ocultas e quantidade de neurônios calculada conforme a aula,\n",
        "   - ativação ReLU,\n",
        "   - solver `adam`,\n",
        "   - `random_state=42`.\n",
        "4. Treine o modelo e reporte:\n",
        "   - acurácia no conjunto de teste,\n",
        "   - matriz de confusão,\n",
        "   - relatório de classificação."
      ]
    },
    {
      "cell_type": "markdown",
      "source": [
        "Manuela Euzébio Niero\n",
        "\n",
        "RM #####"
      ],
      "metadata": {
        "id": "R9ABMRnWVi5j"
      },
      "id": "R9ABMRnWVi5j"
    },
    {
      "cell_type": "markdown",
      "id": "5def2dab-10e6-4e75-8a7c-732a45d7403a",
      "metadata": {
        "id": "5def2dab-10e6-4e75-8a7c-732a45d7403a"
      },
      "source": [
        "## **Solução**"
      ]
    },
    {
      "cell_type": "code",
      "source": [
        "import numpy as np\n",
        "import matplotlib.pyplot as plt\n",
        "import pandas as pd\n",
        "from sklearn.datasets import load_iris\n",
        "from sklearn.cluster import KMeans\n",
        "from sklearn.metrics import silhouette_score, adjusted_rand_score\n",
        "from sklearn.decomposition import PCA\n",
        "from sklearn.preprocessing import StandardScaler\n",
        "import matplotlib.pyplot as plt\n",
        "from sklearn.model_selection import train_test_split\n",
        "from sklearn.neural_network import MLPClassifier"
      ],
      "metadata": {
        "id": "AgrDpUx40vir"
      },
      "id": "AgrDpUx40vir",
      "execution_count": null,
      "outputs": []
    },
    {
      "cell_type": "code",
      "execution_count": null,
      "id": "527805c6-49be-4e0a-bb5c-ef9c7e5d7811",
      "metadata": {
        "id": "527805c6-49be-4e0a-bb5c-ef9c7e5d7811"
      },
      "outputs": [],
      "source": [
        "iris = load_iris()\n",
        "X = iris.data\n",
        "y = iris.target"
      ]
    },
    {
      "cell_type": "code",
      "source": [
        "df = pd.DataFrame(X, columns=iris.feature_names)\n",
        "df['target'] = y\n",
        "X = df[['petal length (cm)', 'petal width (cm)']]\n",
        "y = df['target']"
      ],
      "metadata": {
        "id": "GwRELmUUTuIz"
      },
      "id": "GwRELmUUTuIz",
      "execution_count": null,
      "outputs": []
    },
    {
      "cell_type": "code",
      "source": [
        "X_train, X_test, y_train, y_test = train_test_split(X,y, test_size=0.3, random_state=42)"
      ],
      "metadata": {
        "id": "6tcce2ie1xgd"
      },
      "id": "6tcce2ie1xgd",
      "execution_count": null,
      "outputs": []
    },
    {
      "cell_type": "code",
      "source": [
        "scaler = StandardScaler()\n",
        "X_train_scaled = scaler.fit_transform(X_train)\n",
        "X_test_scaled = scaler.transform(X_test)\n",
        "\n",
        "mlp_adam = MLPClassifier(\n",
        "    hidden_layer_sizes=(70),\n",
        "    activation='relu',\n",
        "    solver='adam',\n",
        "    learning_rate_init=0.5,\n",
        "    max_iter=500,\n",
        "    tol=1e-6,\n",
        "    random_state=42,\n",
        "    verbose=False\n",
        ")\n",
        "mlp_adam.fit(X_train_scaled, y_train)\n",
        "\n",
        "print(\"Predições (SGD):\", mlp_adam.predict(X_train_scaled))\n",
        "print(\"Acurácia (SGD):\", mlp_adam.score(X_train_scaled,  y_train))"
      ],
      "metadata": {
        "colab": {
          "base_uri": "https://localhost:8080/"
        },
        "id": "TfHqba-0Rfcl",
        "outputId": "771753ed-df00-4b40-e959-32eb9f24d637"
      },
      "id": "TfHqba-0Rfcl",
      "execution_count": null,
      "outputs": [
        {
          "output_type": "stream",
          "name": "stdout",
          "text": [
            "Predições (SGD): [1 2 2 1 2 1 2 1 0 2 1 0 0 0 1 2 0 0 0 1 0 1 2 0 1 2 0 2 2 1 1 2 1 0 1 2 0\n",
            " 0 1 2 0 2 0 0 2 1 2 2 2 2 1 0 0 1 2 0 0 0 1 2 0 2 2 0 1 1 2 1 2 0 2 1 2 1\n",
            " 1 1 0 1 1 0 1 2 2 0 1 2 2 0 2 0 1 2 2 1 2 1 1 2 2 0 1 1 0 1 2]\n",
            "Acurácia (SGD): 0.9523809523809523\n"
          ]
        }
      ]
    }
  ],
  "metadata": {
    "kernelspec": {
      "display_name": "Python [conda env:base] *",
      "language": "python",
      "name": "conda-base-py"
    },
    "language_info": {
      "codemirror_mode": {
        "name": "ipython",
        "version": 3
      },
      "file_extension": ".py",
      "mimetype": "text/x-python",
      "name": "python",
      "nbconvert_exporter": "python",
      "pygments_lexer": "ipython3",
      "version": "3.12.7"
    },
    "colab": {
      "provenance": []
    }
  },
  "nbformat": 4,
  "nbformat_minor": 5
}