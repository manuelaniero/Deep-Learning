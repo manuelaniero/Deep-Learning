{
  "cells": [
    {
      "cell_type": "markdown",
      "id": "c7d6d391-b7fa-4d4c-870b-aa0f758e44f0",
      "metadata": {
        "id": "c7d6d391-b7fa-4d4c-870b-aa0f758e44f0"
      },
      "source": [
        "<h1 style=\"text-align: center;\"><strong>Deep Learning & IA</strong></h1>\n",
        "<h2 style=\"text-align: center;\"><strong>Aula 09 - Redes Neurais - Exercícios</strong></h2>\n",
        "<h3 style=\"text-align: center;\"><strong>Prof. Jones Egydio</strong></h3>\n",
        "<h4 style=\"text-align: center;\"><strong>FIAP - 2025</strong></h4>\n",
        "<br>\n",
        "<br>\n"
      ]
    },
    {
      "cell_type": "markdown",
      "source": [
        "Manuela Euzébio Niero\n",
        "\n",
        "RM #####"
      ],
      "metadata": {
        "id": "jQay7oaMVaXy"
      },
      "id": "jQay7oaMVaXy"
    },
    {
      "cell_type": "markdown",
      "id": "a28ea33e-3c0c-4cdf-b98b-25709e15c325",
      "metadata": {
        "id": "a28ea33e-3c0c-4cdf-b98b-25709e15c325"
      },
      "source": [
        "# ✅ **Exercício 1**\n",
        "\n",
        "**Enunciado:**  \n",
        "Dado uma rede neural de uma camada cujas entradas (in1, in2 e in3) são respectivamente **1, 2 e 3** e os pesos (w1, w2, w3) são respectivamente **0.1, 0.2 e 0.3**, calcule a saída deste perceptron considerando uma **função de ativação degrau** e **bias = 0**.\n"
      ]
    },
    {
      "cell_type": "code",
      "execution_count": null,
      "id": "1a38453a-872a-4fc9-a8be-3b5ceed310d7",
      "metadata": {
        "id": "1a38453a-872a-4fc9-a8be-3b5ceed310d7",
        "outputId": "bc0e0d73-1b3b-4ecb-9e23-4e89a31b79a6"
      },
      "outputs": [
        {
          "name": "stdout",
          "output_type": "stream",
          "text": [
            "u = 1.4\n",
            "Saída = 1\n"
          ]
        }
      ],
      "source": [
        "def degrau(u):\n",
        "    return 1 if u >= 1 else 0\n",
        "\n",
        "in1, in2, in3 = 1, 2, 3\n",
        "w1, w2, w3 = 0.1, 0.2, 0.3\n",
        "bias = 0\n",
        "\n",
        "u = in1*w1 + in2*w2 + in3*w3 + bias\n",
        "saida = degrau(u)\n",
        "\n",
        "print(\"u =\", u)\n",
        "print(\"Saída =\", saida)"
      ]
    },
    {
      "cell_type": "markdown",
      "id": "96a8c87d-185c-4d74-8439-41832f7ee148",
      "metadata": {
        "id": "96a8c87d-185c-4d74-8439-41832f7ee148"
      },
      "source": [
        "# ✅ **Exercício 2**\n",
        "\n",
        "**Enunciado:**  \n",
        "Dado uma rede neural de uma camada cujas entradas (in1, in2 e in3) são respectivamente **-1.0, 5.0 e 0.2** e os pesos (w1, w2, w3) são respectivamente **0.11, -0.2 e 4.0**, calcule a saída deste perceptron considerando uma **função de ativação sigmoide**, com **β = 1.25** e **bias = 0**."
      ]
    },
    {
      "cell_type": "code",
      "execution_count": null,
      "id": "228a4afb-718d-43cc-a6fb-70eea3637529",
      "metadata": {
        "id": "228a4afb-718d-43cc-a6fb-70eea3637529",
        "outputId": "03bc0da0-0540-406a-b9e2-c3a8ffaa62c4"
      },
      "outputs": [
        {
          "name": "stdout",
          "output_type": "stream",
          "text": [
            "u = -0.31000000000000005\n",
            "Saída = 0.4043192693921528\n"
          ]
        }
      ],
      "source": [
        "import numpy as np\n",
        "\n",
        "def sigmoide(u, beta=1.25):\n",
        "    return 1 / (1 + np.exp(-beta * u))\n",
        "\n",
        "in1, in2, in3 = -1.0, 5.0, 0.2\n",
        "w1, w2, w3 = 0.11, -0.2, 4.0\n",
        "bias = 0\n",
        "beta = 1.25\n",
        "\n",
        "u = in1*w1 + in2*w2 + in3*w3 + bias\n",
        "saida = sigmoide(u, beta)\n",
        "\n",
        "print(\"u =\", u)\n",
        "print(\"Saída =\", saida)"
      ]
    },
    {
      "cell_type": "markdown",
      "id": "f71aa68d-cefd-4403-8f17-b4f2a5daf6d3",
      "metadata": {
        "id": "f71aa68d-cefd-4403-8f17-b4f2a5daf6d3"
      },
      "source": [
        "# ✅ **Exercício 3 — Ajuste de pesos (AND)**\n",
        "\n",
        "**Enunciado:**  \n",
        "Encontre os **pesos ideais para a Rede Neural Artificial** apresentada, utilizando como entrada a tabela verdade do operador **AND** e **taxa de aprendizagem = 0.1**, partindo da última iteração apresentada (w1 = 0.2, w2 = 0.2).\n",
        "\n",
        "**Tabela de treino:**\n",
        "\n",
        "| In1 | In2 | Classe |\n",
        "|-----|-----|--------|\n",
        "| 0   | 0   | 0      |\n",
        "| 0   | 1   | 0      |\n",
        "| 1   | 0   | 0      |\n",
        "| 1   | 1   | 1      |"
      ]
    },
    {
      "cell_type": "code",
      "execution_count": null,
      "id": "e40269e5-2c49-4e1f-8ad7-6c53c9195c73",
      "metadata": {
        "id": "e40269e5-2c49-4e1f-8ad7-6c53c9195c73",
        "outputId": "6d49f81e-f8cb-4ea1-b4ef-4a5d77cf08ed"
      },
      "outputs": [
        {
          "name": "stdout",
          "output_type": "stream",
          "text": [
            "Época 1\n",
            "Entrada: [0 0], Saída esperada: 0, Saída obtida: 0, Erro: 0, Novos pesos: [0.2 0.2]\n",
            "Entrada: [0 1], Saída esperada: 0, Saída obtida: 0, Erro: 0, Novos pesos: [0.2 0.2]\n",
            "Entrada: [1 0], Saída esperada: 0, Saída obtida: 0, Erro: 0, Novos pesos: [0.2 0.2]\n",
            "Entrada: [1 1], Saída esperada: 1, Saída obtida: 0, Erro: 1, Novos pesos: [0.3 0.3]\n",
            "Época 2\n",
            "Entrada: [0 0], Saída esperada: 0, Saída obtida: 0, Erro: 0, Novos pesos: [0.3 0.3]\n",
            "Entrada: [0 1], Saída esperada: 0, Saída obtida: 0, Erro: 0, Novos pesos: [0.3 0.3]\n",
            "Entrada: [1 0], Saída esperada: 0, Saída obtida: 0, Erro: 0, Novos pesos: [0.3 0.3]\n",
            "Entrada: [1 1], Saída esperada: 1, Saída obtida: 0, Erro: 1, Novos pesos: [0.4 0.4]\n",
            "Época 3\n",
            "Entrada: [0 0], Saída esperada: 0, Saída obtida: 0, Erro: 0, Novos pesos: [0.4 0.4]\n",
            "Entrada: [0 1], Saída esperada: 0, Saída obtida: 0, Erro: 0, Novos pesos: [0.4 0.4]\n",
            "Entrada: [1 0], Saída esperada: 0, Saída obtida: 0, Erro: 0, Novos pesos: [0.4 0.4]\n",
            "Entrada: [1 1], Saída esperada: 1, Saída obtida: 0, Erro: 1, Novos pesos: [0.5 0.5]\n",
            "Época 4\n",
            "Entrada: [0 0], Saída esperada: 0, Saída obtida: 0, Erro: 0, Novos pesos: [0.5 0.5]\n",
            "Entrada: [0 1], Saída esperada: 0, Saída obtida: 0, Erro: 0, Novos pesos: [0.5 0.5]\n",
            "Entrada: [1 0], Saída esperada: 0, Saída obtida: 0, Erro: 0, Novos pesos: [0.5 0.5]\n",
            "Entrada: [1 1], Saída esperada: 1, Saída obtida: 1, Erro: 0, Novos pesos: [0.5 0.5]\n",
            "Época 5\n",
            "Entrada: [0 0], Saída esperada: 0, Saída obtida: 0, Erro: 0, Novos pesos: [0.5 0.5]\n",
            "Entrada: [0 1], Saída esperada: 0, Saída obtida: 0, Erro: 0, Novos pesos: [0.5 0.5]\n",
            "Entrada: [1 0], Saída esperada: 0, Saída obtida: 0, Erro: 0, Novos pesos: [0.5 0.5]\n",
            "Entrada: [1 1], Saída esperada: 1, Saída obtida: 1, Erro: 0, Novos pesos: [0.5 0.5]\n",
            "Época 6\n",
            "Entrada: [0 0], Saída esperada: 0, Saída obtida: 0, Erro: 0, Novos pesos: [0.5 0.5]\n",
            "Entrada: [0 1], Saída esperada: 0, Saída obtida: 0, Erro: 0, Novos pesos: [0.5 0.5]\n",
            "Entrada: [1 0], Saída esperada: 0, Saída obtida: 0, Erro: 0, Novos pesos: [0.5 0.5]\n",
            "Entrada: [1 1], Saída esperada: 1, Saída obtida: 1, Erro: 0, Novos pesos: [0.5 0.5]\n",
            "Época 7\n",
            "Entrada: [0 0], Saída esperada: 0, Saída obtida: 0, Erro: 0, Novos pesos: [0.5 0.5]\n",
            "Entrada: [0 1], Saída esperada: 0, Saída obtida: 0, Erro: 0, Novos pesos: [0.5 0.5]\n",
            "Entrada: [1 0], Saída esperada: 0, Saída obtida: 0, Erro: 0, Novos pesos: [0.5 0.5]\n",
            "Entrada: [1 1], Saída esperada: 1, Saída obtida: 1, Erro: 0, Novos pesos: [0.5 0.5]\n",
            "Época 8\n",
            "Entrada: [0 0], Saída esperada: 0, Saída obtida: 0, Erro: 0, Novos pesos: [0.5 0.5]\n",
            "Entrada: [0 1], Saída esperada: 0, Saída obtida: 0, Erro: 0, Novos pesos: [0.5 0.5]\n",
            "Entrada: [1 0], Saída esperada: 0, Saída obtida: 0, Erro: 0, Novos pesos: [0.5 0.5]\n",
            "Entrada: [1 1], Saída esperada: 1, Saída obtida: 1, Erro: 0, Novos pesos: [0.5 0.5]\n",
            "Época 9\n",
            "Entrada: [0 0], Saída esperada: 0, Saída obtida: 0, Erro: 0, Novos pesos: [0.5 0.5]\n",
            "Entrada: [0 1], Saída esperada: 0, Saída obtida: 0, Erro: 0, Novos pesos: [0.5 0.5]\n",
            "Entrada: [1 0], Saída esperada: 0, Saída obtida: 0, Erro: 0, Novos pesos: [0.5 0.5]\n",
            "Entrada: [1 1], Saída esperada: 1, Saída obtida: 1, Erro: 0, Novos pesos: [0.5 0.5]\n",
            "Época 10\n",
            "Entrada: [0 0], Saída esperada: 0, Saída obtida: 0, Erro: 0, Novos pesos: [0.5 0.5]\n",
            "Entrada: [0 1], Saída esperada: 0, Saída obtida: 0, Erro: 0, Novos pesos: [0.5 0.5]\n",
            "Entrada: [1 0], Saída esperada: 0, Saída obtida: 0, Erro: 0, Novos pesos: [0.5 0.5]\n",
            "Entrada: [1 1], Saída esperada: 1, Saída obtida: 1, Erro: 0, Novos pesos: [0.5 0.5]\n"
          ]
        }
      ],
      "source": [
        "entradas = np.array([[0,0],[0,1],[1,0],[1,1]])\n",
        "saidas = np.array([0,0,0,1])\n",
        "\n",
        "\n",
        "pesos = np.array([0.2, 0.2])\n",
        "taxa_aprendizagem = 0.1\n",
        "\n",
        "def degrau(u):\n",
        "    return 1 if u >= 1 else 0\n",
        "\n",
        "for epoca in range(10):\n",
        "    print(f\"Época {epoca+1}\")\n",
        "    for i in range(len(entradas)):\n",
        "        entrada = entradas[i]\n",
        "        u = np.dot(entrada, pesos)\n",
        "        saida = degrau(u)\n",
        "        erro = saidas[i] - saida\n",
        "        pesos += taxa_aprendizagem * erro * entrada\n",
        "        print(f\"Entrada: {entrada}, Saída esperada: {saidas[i]}, Saída obtida: {saida}, Erro: {erro}, Novos pesos: {pesos}\")"
      ]
    }
  ],
  "metadata": {
    "kernelspec": {
      "display_name": "Python [conda env:base] *",
      "language": "python",
      "name": "conda-base-py"
    },
    "language_info": {
      "codemirror_mode": {
        "name": "ipython",
        "version": 3
      },
      "file_extension": ".py",
      "mimetype": "text/x-python",
      "name": "python",
      "nbconvert_exporter": "python",
      "pygments_lexer": "ipython3",
      "version": "3.12.7"
    },
    "colab": {
      "provenance": []
    }
  },
  "nbformat": 4,
  "nbformat_minor": 5
}